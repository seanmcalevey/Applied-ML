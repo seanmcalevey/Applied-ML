{
  "nbformat": 4,
  "nbformat_minor": 0,
  "metadata": {
    "colab": {
      "name": "Applied ML HW#3.ipynb",
      "provenance": [],
      "machine_shape": "hm"
    },
    "kernelspec": {
      "name": "python3",
      "display_name": "Python 3"
    },
    "accelerator": "GPU"
  },
  "cells": [
    {
      "cell_type": "markdown",
      "metadata": {
        "id": "qCfZkPe4y6NG",
        "colab_type": "text"
      },
      "source": [
        "# Homework 3\n",
        "\n",
        "You can submit in groups of 2. Due 3/25, 1pm.\n",
        "All assignments need to be submitted via github classroom:\n",
        "https://classroom.github.com/g/yCXet19l\n",
        "and as PDF via gradescope.\n",
        "The goal of this homework is to provide a realistic setting for a machine learning task. Therefore instructions will not specify the exact steps to carry out. Instead, it is part of the assignment to identify promising features, models and preprocessing methods and apply them as appropriate.\n",
        "The overall goal is to predict the price of a used vehicle on craigslist, as can be found on kaggle:  https://www.kaggle.com/austinreese/craigslist-carstrucks-data\n",
        "You can find a description of the dataset and download it from there. You do not have to use the whole dataset, and it’s recommended that you strongly subsample the data while developing your solution.\n",
        "While the modelling process is likely iterative, please lay out the following tasks in the given order to facilitate grading."
      ]
    },
    {
      "cell_type": "code",
      "metadata": {
        "id": "sOqXKwyLN-dr",
        "colab_type": "code",
        "outputId": "e499cde4-a9bf-4758-a9f6-2f795e3aee8d",
        "colab": {
          "base_uri": "https://localhost:8080/",
          "height": 156
        }
      },
      "source": [
        "import numpy as np\n",
        "import pandas as pd\n",
        "import matplotlib.pyplot as plt\n",
        "import seaborn as sns\n",
        "from google.colab import drive\n",
        "\n",
        "drive.mount('/content/drive/', force_remount=True)"
      ],
      "execution_count": 1,
      "outputs": [
        {
          "output_type": "stream",
          "text": [
            "/usr/local/lib/python3.6/dist-packages/statsmodels/tools/_testing.py:19: FutureWarning: pandas.util.testing is deprecated. Use the functions in the public API at pandas.testing instead.\n",
            "  import pandas.util.testing as tm\n"
          ],
          "name": "stderr"
        },
        {
          "output_type": "stream",
          "text": [
            "Go to this URL in a browser: https://accounts.google.com/o/oauth2/auth?client_id=947318989803-6bn6qk8qdgf4n4g3pfee6491hc0brc4i.apps.googleusercontent.com&redirect_uri=urn%3aietf%3awg%3aoauth%3a2.0%3aoob&response_type=code&scope=email%20https%3a%2f%2fwww.googleapis.com%2fauth%2fdocs.test%20https%3a%2f%2fwww.googleapis.com%2fauth%2fdrive%20https%3a%2f%2fwww.googleapis.com%2fauth%2fdrive.photos.readonly%20https%3a%2f%2fwww.googleapis.com%2fauth%2fpeopleapi.readonly\n",
            "\n",
            "Enter your authorization code:\n",
            "··········\n",
            "Mounted at /content/drive/\n"
          ],
          "name": "stdout"
        }
      ]
    },
    {
      "cell_type": "markdown",
      "metadata": {
        "id": "G2q-NtUDqP4f",
        "colab_type": "text"
      },
      "source": [
        "### Set global sklearn configuration"
      ]
    },
    {
      "cell_type": "code",
      "metadata": {
        "id": "lJ5J2NQ1qO0k",
        "colab_type": "code",
        "colab": {}
      },
      "source": [
        "import sklearn\n",
        "\n",
        "sklearn.set_config(print_changed_only=True)"
      ],
      "execution_count": 0,
      "outputs": []
    },
    {
      "cell_type": "markdown",
      "metadata": {
        "id": "BjHAGvLFqTkM",
        "colab_type": "text"
      },
      "source": [
        "### Craigslist Used Car Dataset: Load and Sub-Sample\n",
        "\n"
      ]
    },
    {
      "cell_type": "code",
      "metadata": {
        "id": "UTYEfY5qOGRo",
        "colab_type": "code",
        "colab": {}
      },
      "source": [
        "master_df = pd.read_csv('/content/drive/My Drive/kaggle_datasets/vehicles.csv')"
      ],
      "execution_count": 0,
      "outputs": []
    },
    {
      "cell_type": "code",
      "metadata": {
        "id": "4bTWUmtaf28e",
        "colab_type": "code",
        "colab": {}
      },
      "source": [
        "sub_sample_df = master_df.sample(10000, random_state=42)"
      ],
      "execution_count": 0,
      "outputs": []
    },
    {
      "cell_type": "markdown",
      "metadata": {
        "id": "n1aV-AqvvKDw",
        "colab_type": "text"
      },
      "source": [
        "## Task 1 Identify Features\n",
        "\n",
        "### Assemble a dataset consisting of features and target (for example in a dataframe or in two arrays X and y). What features are relevant for the prediction task? Are there any features that should be excluded because they leak the target information? Show visualizations or statistics to support your selection. You are not required to use the description column, but you can try to come up with relevant features using it. Please don’t use bag-of-word approaches for now as we’ll discuss these later in the class."
      ]
    },
    {
      "cell_type": "markdown",
      "metadata": {
        "id": "VEdMDwacqmQV",
        "colab_type": "text"
      },
      "source": [
        "### Exploratory Data Analysis"
      ]
    },
    {
      "cell_type": "code",
      "metadata": {
        "id": "kfI6S5nnlHzi",
        "colab_type": "code",
        "colab": {}
      },
      "source": [
        "columns_to_drop = ['id', 'url', 'vin', 'image_url', 'region_url', 'description', 'lat', 'long', 'county']\n",
        "\n",
        "df = sub_sample_df.drop(columns_to_drop, axis=1)"
      ],
      "execution_count": 0,
      "outputs": []
    },
    {
      "cell_type": "markdown",
      "metadata": {
        "id": "OOnYTA3X-Xat",
        "colab_type": "text"
      },
      "source": [
        "The dropped columns--id, url, vin, image_url, region_url, description, lat, long, county--are dropped because they either leak information to the target variable (e.g., id, vin), are too particular to specific listings (image_url, region_url, url), or are redundant (lat, long, county)."
      ]
    },
    {
      "cell_type": "code",
      "metadata": {
        "id": "JT00w50fwKjG",
        "colab_type": "code",
        "outputId": "a6a46cca-648e-4d53-f69d-374b548c5805",
        "colab": {
          "base_uri": "https://localhost:8080/",
          "height": 221
        }
      },
      "source": [
        "df['price'].value_counts()"
      ],
      "execution_count": 6,
      "outputs": [
        {
          "output_type": "execute_result",
          "data": {
            "text/plain": [
              "0        909\n",
              "3500      95\n",
              "5995      94\n",
              "8995      89\n",
              "6995      84\n",
              "        ... \n",
              "10906      1\n",
              "10745      1\n",
              "20990      1\n",
              "10898      1\n",
              "29749      1\n",
              "Name: price, Length: 2198, dtype: int64"
            ]
          },
          "metadata": {
            "tags": []
          },
          "execution_count": 6
        }
      ]
    },
    {
      "cell_type": "code",
      "metadata": {
        "id": "61MOCFU6xJfO",
        "colab_type": "code",
        "outputId": "3e3cdd09-811b-441e-e042-7acb702cc2cd",
        "colab": {
          "base_uri": "https://localhost:8080/",
          "height": 34
        }
      },
      "source": [
        "print(f'Only {len(df[df[\"price\"] > 1e5])} outlier cars priced above $100,000')"
      ],
      "execution_count": 7,
      "outputs": [
        {
          "output_type": "stream",
          "text": [
            "Only 5 outlier cars priced above $100,000\n"
          ],
          "name": "stdout"
        }
      ]
    },
    {
      "cell_type": "markdown",
      "metadata": {
        "id": "T66RmYoLyOSy",
        "colab_type": "text"
      },
      "source": [
        "### Drop outlier prices: 0s and >100,000"
      ]
    },
    {
      "cell_type": "code",
      "metadata": {
        "id": "8EZZvtdUxoVd",
        "colab_type": "code",
        "colab": {}
      },
      "source": [
        "df = df[df['price'] < 1e5]\n",
        "\n",
        "indexes = df[df['price'] == 0].index\n",
        "\n",
        "df = df.drop(indexes)"
      ],
      "execution_count": 0,
      "outputs": []
    },
    {
      "cell_type": "markdown",
      "metadata": {
        "id": "3FphaIe94XQK",
        "colab_type": "text"
      },
      "source": [
        "### Visualize numerical features\n"
      ]
    },
    {
      "cell_type": "code",
      "metadata": {
        "id": "GWmqfz0wutE-",
        "colab_type": "code",
        "outputId": "371dbef0-7d16-4575-a559-8d42c940b097",
        "colab": {
          "base_uri": "https://localhost:8080/",
          "height": 306
        }
      },
      "source": [
        "categorical = df.dtypes == object\n",
        "\n",
        "numerical = ~categorical\n",
        "\n",
        "numerical"
      ],
      "execution_count": 9,
      "outputs": [
        {
          "output_type": "execute_result",
          "data": {
            "text/plain": [
              "region          False\n",
              "price            True\n",
              "year             True\n",
              "manufacturer    False\n",
              "model           False\n",
              "condition       False\n",
              "cylinders       False\n",
              "fuel            False\n",
              "odometer         True\n",
              "title_status    False\n",
              "transmission    False\n",
              "drive           False\n",
              "size            False\n",
              "type            False\n",
              "paint_color     False\n",
              "state           False\n",
              "dtype: bool"
            ]
          },
          "metadata": {
            "tags": []
          },
          "execution_count": 9
        }
      ]
    },
    {
      "cell_type": "markdown",
      "metadata": {
        "id": "_HEo-8trgoxW",
        "colab_type": "text"
      },
      "source": [
        "### Plot numerical features before removing outliers"
      ]
    },
    {
      "cell_type": "code",
      "metadata": {
        "id": "Oh2GOfUYzkE3",
        "colab_type": "code",
        "outputId": "4f305c6d-006f-4e1e-b628-c16585ac9742",
        "colab": {
          "base_uri": "https://localhost:8080/",
          "height": 369
        }
      },
      "source": [
        "fig, ax = plt.subplots(2,3,figsize=(15,5))\n",
        "\n",
        "for i, feature in enumerate(df.columns[numerical]):\n",
        "  sns.regplot(df[feature], df['price'], ax=ax[0,i], scatter_kws={'alpha': 0.1, 's': 0.5})\n",
        "  sns.distplot(df[feature], ax=ax[1,i])\n",
        "  \n",
        "plt.tight_layout()"
      ],
      "execution_count": 10,
      "outputs": [
        {
          "output_type": "display_data",
          "data": {
            "image/png": "[encoded data removed]",
            "text/plain": [
              "<Figure size 1080x360 with 6 Axes>"
            ]
          },
          "metadata": {
            "tags": []
          }
        }
      ]
    },
    {
      "cell_type": "markdown",
      "metadata": {
        "id": "y2PTbHCh5MHk",
        "colab_type": "text"
      },
      "source": [
        "### Remove outliers for better visualizations"
      ]
    },
    {
      "cell_type": "code",
      "metadata": {
        "id": "ccRsAOOl4MCp",
        "colab_type": "code",
        "outputId": "f1259925-3daa-4fa9-da21-0583d919431d",
        "colab": {
          "base_uri": "https://localhost:8080/",
          "height": 51
        }
      },
      "source": [
        "print(f'Number of cars with odometer readings greater than {3e5}:', len(df[df['odometer'] > 3e5]))\n",
        "\n",
        "print(f'Numer of cars sold that were made before 1950:', len(df[df['year'] < 1950]))"
      ],
      "execution_count": 11,
      "outputs": [
        {
          "output_type": "stream",
          "text": [
            "Number of cars with odometer readings greater than 300000.0: 60\n",
            "Numer of cars sold that were made before 1950: 19\n"
          ],
          "name": "stdout"
        }
      ]
    },
    {
      "cell_type": "code",
      "metadata": {
        "id": "PBW9U1xA49DI",
        "colab_type": "code",
        "colab": {}
      },
      "source": [
        "df = df[df['odometer'] <= 3e5]\n",
        "\n",
        "df = df[df['year'] >= 1950]"
      ],
      "execution_count": 0,
      "outputs": []
    },
    {
      "cell_type": "code",
      "metadata": {
        "id": "oSxM8RoXtDRE",
        "colab_type": "code",
        "outputId": "a79504b3-70aa-4e77-9341-6d842263962e",
        "colab": {
          "base_uri": "https://localhost:8080/",
          "height": 369
        }
      },
      "source": [
        "fig, ax = plt.subplots(2,3,figsize=(15,5))\n",
        "\n",
        "for i, feature in enumerate(df.columns[numerical]):\n",
        "  sns.regplot(df[feature], df['price'], ax=ax[0,i], scatter_kws={'alpha': 0.1, 's': 0.5})\n",
        "  sns.distplot(df[feature], ax=ax[1,i])\n",
        "  \n",
        "plt.tight_layout()"
      ],
      "execution_count": 13,
      "outputs": [
        {
          "output_type": "display_data",
          "data": {
            "image/png": "[encoded data removed]",
            "text/plain": [
              "<Figure size 1080x360 with 6 Axes>"
            ]
          },
          "metadata": {
            "tags": []
          }
        }
      ]
    },
    {
      "cell_type": "markdown",
      "metadata": {
        "id": "2j1nWhTAfSXC",
        "colab_type": "text"
      },
      "source": [
        "After cleaning the data slightly so that outlier variables were removed from the numerical features (including the target feature, \"price\"), it's clear that there is a positive correlation between year and price (meaning the newer the car, the higher the price) and a negative correlation between odometer reading and price (meaning the higher the odometer reading, the lower the price).\n",
        "\n",
        "As for the histogram graphs, price shows a positive skew towards higher numbers, which makes sense since 0 is a hard cap on how low price can be, while there is effectively no cap on price. With regard to year, you can see a clustering that ranges from 2000 to present, and then a significant tail towards the earlier years in the 1900s. Odometer had a very balanced distribution, with the data clustering from 0 all the way to 200,000, which is usually the mileage around which cars begin to break down. So this all makes sense."
      ]
    },
    {
      "cell_type": "markdown",
      "metadata": {
        "id": "OP8zlTIUEA7Z",
        "colab_type": "text"
      },
      "source": [
        "### Bar plots of categorical variables"
      ]
    },
    {
      "cell_type": "code",
      "metadata": {
        "id": "S1M3ABnNdo5E",
        "colab_type": "code",
        "outputId": "d172af5f-38e8-41f2-c5e6-374f675efcbf",
        "colab": {
          "base_uri": "https://localhost:8080/",
          "height": 369
        }
      },
      "source": [
        "fig, ax = plt.subplots(1,3, figsize=(15,5))\n",
        "\n",
        "# Plot 1\n",
        "\n",
        "x_tmp = df.groupby('condition')['price'].count().index\n",
        "\n",
        "y_tmp = df.groupby('condition')['price'].count()\n",
        "\n",
        "sns.barplot(x_tmp, y_tmp, ax=ax[0])\n",
        "\n",
        "ax[0].set_xticklabels(x_tmp, rotation=35)\n",
        "\n",
        "# Plot 2\n",
        "\n",
        "x_tmp = df.groupby('manufacturer')['price'].count().index\n",
        "\n",
        "y_tmp = df.groupby('manufacturer')['price'].count()\n",
        "\n",
        "sns.barplot(x_tmp, y_tmp, ax=ax[1])\n",
        "\n",
        "ax[1].set_xticklabels(x_tmp, rotation=90)\n",
        "\n",
        "# Plot 3\n",
        "\n",
        "x_tmp = df.groupby('paint_color')['price'].count().index\n",
        "\n",
        "y_tmp = df.groupby('paint_color')['price'].count()\n",
        "\n",
        "sns.barplot(x_tmp, y_tmp, ax=ax[2], color='b')\n",
        "\n",
        "ax[2].set_xticklabels(x_tmp, rotation=35)\n",
        "\n",
        "plt.tight_layout()"
      ],
      "execution_count": 14,
      "outputs": [
        {
          "output_type": "display_data",
          "data": {
            "image/png": "[encoded data removed]",
            "text/plain": [
              "<Figure size 1080x360 with 3 Axes>"
            ]
          },
          "metadata": {
            "tags": []
          }
        }
      ]
    },
    {
      "cell_type": "markdown",
      "metadata": {
        "id": "6DryXXQahnuz",
        "colab_type": "text"
      },
      "source": [
        "The first bar plot above shows that most craigslist sales involve \"excellent\" and \"good\" cars, while \"like new\" and \"fair\" have a smaller but noticeable portion of the sales, and \"new\" and \"salvage\" are essentially negligible. \"New\" makes sense as negligible since new cars probably aren't being sold on Craigslist, and if they are it would be rare.\n",
        "\n",
        "The second plot shows that certain manufacturers such as Ford, Chevrolet, and Toyota sell the most cars, but other manufacturers such as Ram, Nissan, Jeep, Honda, and GMC also have a fair portion of the total market. Certain brands like Alfa-Romeo and Datsun make up close to 0 sales individually.\n",
        "\n",
        "The third plot shows that the most commonly sold cars are white followed by black, silver, and blue in that order. Very few sold cars are purple, yellow, or orange, which could indicate that people don't prefer those colors and/or that there are not that many of those cars being offered in the marketplace."
      ]
    },
    {
      "cell_type": "code",
      "metadata": {
        "id": "ZH2MtsAcioqv",
        "colab_type": "code",
        "outputId": "eeec622b-fad8-4b15-d073-faa61ad78ba3",
        "colab": {
          "base_uri": "https://localhost:8080/",
          "height": 369
        }
      },
      "source": [
        "dicfig, ax = plt.subplots(1,3, figsize=(15,5))\n",
        "\n",
        "# Plot 1\n",
        "\n",
        "x_tmp = df.groupby('title_status')['price'].count().index\n",
        "\n",
        "y_tmp = df.groupby('title_status')['price'].count()\n",
        "\n",
        "sns.barplot(x_tmp, y_tmp, ax=ax[0])\n",
        "\n",
        "# Plot 2\n",
        "\n",
        "x_tmp = df.groupby('transmission')['price'].count().index\n",
        "\n",
        "y_tmp = df.groupby('transmission')['price'].count()\n",
        "\n",
        "sns.barplot(x_tmp, y_tmp, ax=ax[1])\n",
        "\n",
        "# Plot 3\n",
        "\n",
        "x_tmp = df.groupby('size')['price'].count().index\n",
        "\n",
        "y_tmp = df.groupby('size')['price'].count()\n",
        "\n",
        "sns.barplot(x_tmp, y_tmp, ax=ax[2])\n",
        "\n",
        "plt.tight_layout()"
      ],
      "execution_count": 15,
      "outputs": [
        {
          "output_type": "display_data",
          "data": {
            "image/png": "[encoded data removed]",
            "text/plain": [
              "<Figure size 1080x360 with 3 Axes>"
            ]
          },
          "metadata": {
            "tags": []
          }
        }
      ]
    },
    {
      "cell_type": "markdown",
      "metadata": {
        "id": "R4pTCkGlliYS",
        "colab_type": "text"
      },
      "source": [
        "The first plot shows that the vast majority of sold cars have clean title, which makes sense since buyers don't want to buy cars with issues involving title (i.e., who owns the car).\n",
        "\n",
        "The second plot shows that the vast majority of sold cars are automatic transmissions. Manual transmissions make up a small but visible minority.\n",
        "\n",
        "The third bar plot shows that full-size cars reign supreme on craigslist, but mid-size and compact cars also have a good portion of the market. Sub-compact cars have a sliver of the total market."
      ]
    },
    {
      "cell_type": "markdown",
      "metadata": {
        "id": "bhHYy1rpu1Rf",
        "colab_type": "text"
      },
      "source": [
        "## Task 2 Preprocessing and Baseline Model\n",
        "### Create a simple minimum viable model by doing an initial selection of features, doing appropriate preprocessing and cross-validating a linear model. Feel free to exclude features or do simplified preprocessing for this task. As mentioned before, you don’t need to validate the model on the whole dataset."
      ]
    },
    {
      "cell_type": "markdown",
      "metadata": {
        "id": "-PjXph2HW1A0",
        "colab_type": "text"
      },
      "source": [
        "### Baseline Model"
      ]
    },
    {
      "cell_type": "code",
      "metadata": {
        "id": "FDoiVZ3k0K2A",
        "colab_type": "code",
        "colab": {}
      },
      "source": [
        "df = df.reset_index(drop=True)"
      ],
      "execution_count": 0,
      "outputs": []
    },
    {
      "cell_type": "code",
      "metadata": {
        "id": "OBHxEVDmu25X",
        "colab_type": "code",
        "colab": {}
      },
      "source": [
        "from sklearn.model_selection import train_test_split\n",
        "\n",
        "X = df.drop('price', axis=1)\n",
        "\n",
        "y = df['price']\n",
        "\n",
        "X_train, X_val, y_train, y_val = train_test_split(X, y, train_size=0.8, random_state=42)"
      ],
      "execution_count": 0,
      "outputs": []
    },
    {
      "cell_type": "code",
      "metadata": {
        "id": "UQWQxwAJvT1b",
        "colab_type": "code",
        "colab": {}
      },
      "source": [
        "from sklearn.pipeline import make_pipeline\n",
        "from sklearn.compose import make_column_transformer\n",
        "from sklearn.impute import SimpleImputer\n",
        "from sklearn.preprocessing import MinMaxScaler, OneHotEncoder\n",
        "from sklearn.decomposition import TruncatedSVD\n",
        "\n",
        "numerical_cols = X.dtypes != object\n",
        "\n",
        "categorical_cols = ~numerical_cols\n",
        "\n",
        "numerical_preprocessor = make_pipeline(SimpleImputer(strategy='median'), MinMaxScaler())\n",
        "\n",
        "categorical_preprocessor = make_pipeline(SimpleImputer(strategy='constant'), OneHotEncoder(handle_unknown='ignore'))\n",
        "\n",
        "preprocessor = make_column_transformer((numerical_preprocessor, numerical_cols), (categorical_preprocessor, categorical_cols))"
      ],
      "execution_count": 0,
      "outputs": []
    },
    {
      "cell_type": "code",
      "metadata": {
        "id": "vN5VjmQov9yO",
        "colab_type": "code",
        "outputId": "5cd4da7d-8169-42bc-8fbe-9004ba4bc35a",
        "colab": {
          "base_uri": "https://localhost:8080/",
          "height": 51
        }
      },
      "source": [
        "from sklearn.model_selection import cross_val_score\n",
        "from sklearn.linear_model import LinearRegression\n",
        "\n",
        "pipe = make_pipeline(preprocessor, LinearRegression()).fit(X_train, y_train)\n",
        "\n",
        "score = cross_val_score(pipe, X_train, y_train, cv=5)\n",
        "\n",
        "print(f'Train cv score: {np.mean(score)}')\n",
        "\n",
        "print(f'Val score: {pipe.score(X_val, y_val)}')"
      ],
      "execution_count": 19,
      "outputs": [
        {
          "output_type": "stream",
          "text": [
            "Train cv score: 0.5070513375043604\n",
            "Val score: 0.5534923542470049\n"
          ],
          "name": "stdout"
        }
      ]
    },
    {
      "cell_type": "markdown",
      "metadata": {
        "id": "U0I9nuQZxgAd",
        "colab_type": "text"
      },
      "source": [
        "## Task 3 Feature Engineering\n",
        "### Create derived features and perform more in-depth preprocessing and data cleaning. Does this improve your model? In particular, think about how to encode categorical variables and whether adding interactions (for example using PolynomialFeatures or manually) might help."
      ]
    },
    {
      "cell_type": "code",
      "metadata": {
        "id": "RhisThm5xg-h",
        "colab_type": "code",
        "outputId": "03a0a5ab-acce-490c-bc07-16b8ea245d0d",
        "colab": {
          "base_uri": "https://localhost:8080/",
          "height": 204
        }
      },
      "source": [
        "X = df.drop('price', axis=1)\n",
        "\n",
        "y = df['price']\n",
        "\n",
        "numerical_cols = X.dtypes != object\n",
        "\n",
        "categorical_cols = ~numerical_cols\n",
        "\n",
        "X.head()"
      ],
      "execution_count": 20,
      "outputs": [
        {
          "output_type": "execute_result",
          "data": {
            "text/html": [
              "<div>\n",
              "<style scoped>\n",
              "    .dataframe tbody tr th:only-of-type {\n",
              "        vertical-align: middle;\n",
              "    }\n",
              "\n",
              "    .dataframe tbody tr th {\n",
              "        vertical-align: top;\n",
              "    }\n",
              "\n",
              "    .dataframe thead th {\n",
              "        text-align: right;\n",
              "    }\n",
              "</style>\n",
              "<table border=\"1\" class=\"dataframe\">\n",
              "  <thead>\n",
              "    <tr style=\"text-align: right;\">\n",
              "      <th></th>\n",
              "      <th>region</th>\n",
              "      <th>year</th>\n",
              "      <th>manufacturer</th>\n",
              "      <th>model</th>\n",
              "      <th>condition</th>\n",
              "      <th>cylinders</th>\n",
              "      <th>fuel</th>\n",
              "      <th>odometer</th>\n",
              "      <th>title_status</th>\n",
              "      <th>transmission</th>\n",
              "      <th>drive</th>\n",
              "      <th>size</th>\n",
              "      <th>type</th>\n",
              "      <th>paint_color</th>\n",
              "      <th>state</th>\n",
              "    </tr>\n",
              "  </thead>\n",
              "  <tbody>\n",
              "    <tr>\n",
              "      <th>0</th>\n",
              "      <td>albany</td>\n",
              "      <td>2016.0</td>\n",
              "      <td>toyota</td>\n",
              "      <td>tundra</td>\n",
              "      <td>NaN</td>\n",
              "      <td>8 cylinders</td>\n",
              "      <td>gas</td>\n",
              "      <td>50305.0</td>\n",
              "      <td>clean</td>\n",
              "      <td>automatic</td>\n",
              "      <td>4wd</td>\n",
              "      <td>NaN</td>\n",
              "      <td>pickup</td>\n",
              "      <td>black</td>\n",
              "      <td>ny</td>\n",
              "    </tr>\n",
              "    <tr>\n",
              "      <th>1</th>\n",
              "      <td>st louis, MO</td>\n",
              "      <td>2003.0</td>\n",
              "      <td>ford</td>\n",
              "      <td>escape xlt 4x4</td>\n",
              "      <td>excellent</td>\n",
              "      <td>6 cylinders</td>\n",
              "      <td>gas</td>\n",
              "      <td>184000.0</td>\n",
              "      <td>clean</td>\n",
              "      <td>automatic</td>\n",
              "      <td>4wd</td>\n",
              "      <td>NaN</td>\n",
              "      <td>SUV</td>\n",
              "      <td>blue</td>\n",
              "      <td>il</td>\n",
              "    </tr>\n",
              "    <tr>\n",
              "      <th>2</th>\n",
              "      <td>watertown</td>\n",
              "      <td>2015.0</td>\n",
              "      <td>ford</td>\n",
              "      <td>escape se 4x4</td>\n",
              "      <td>like new</td>\n",
              "      <td>4 cylinders</td>\n",
              "      <td>gas</td>\n",
              "      <td>95909.0</td>\n",
              "      <td>clean</td>\n",
              "      <td>automatic</td>\n",
              "      <td>4wd</td>\n",
              "      <td>full-size</td>\n",
              "      <td>SUV</td>\n",
              "      <td>blue</td>\n",
              "      <td>ny</td>\n",
              "    </tr>\n",
              "    <tr>\n",
              "      <th>3</th>\n",
              "      <td>elmira-corning</td>\n",
              "      <td>2012.0</td>\n",
              "      <td>gmc</td>\n",
              "      <td>NaN</td>\n",
              "      <td>like new</td>\n",
              "      <td>8 cylinders</td>\n",
              "      <td>gas</td>\n",
              "      <td>47700.0</td>\n",
              "      <td>clean</td>\n",
              "      <td>automatic</td>\n",
              "      <td>4wd</td>\n",
              "      <td>full-size</td>\n",
              "      <td>truck</td>\n",
              "      <td>black</td>\n",
              "      <td>ny</td>\n",
              "    </tr>\n",
              "    <tr>\n",
              "      <th>4</th>\n",
              "      <td>san antonio</td>\n",
              "      <td>2017.0</td>\n",
              "      <td>chevrolet</td>\n",
              "      <td>traverse</td>\n",
              "      <td>NaN</td>\n",
              "      <td>NaN</td>\n",
              "      <td>gas</td>\n",
              "      <td>74268.0</td>\n",
              "      <td>clean</td>\n",
              "      <td>automatic</td>\n",
              "      <td>NaN</td>\n",
              "      <td>NaN</td>\n",
              "      <td>NaN</td>\n",
              "      <td>NaN</td>\n",
              "      <td>tx</td>\n",
              "    </tr>\n",
              "  </tbody>\n",
              "</table>\n",
              "</div>"
            ],
            "text/plain": [
              "           region    year manufacturer  ...    type paint_color state\n",
              "0          albany  2016.0       toyota  ...  pickup       black    ny\n",
              "1    st louis, MO  2003.0         ford  ...     SUV        blue    il\n",
              "2       watertown  2015.0         ford  ...     SUV        blue    ny\n",
              "3  elmira-corning  2012.0          gmc  ...   truck       black    ny\n",
              "4     san antonio  2017.0    chevrolet  ...     NaN         NaN    tx\n",
              "\n",
              "[5 rows x 15 columns]"
            ]
          },
          "metadata": {
            "tags": []
          },
          "execution_count": 20
        }
      ]
    },
    {
      "cell_type": "markdown",
      "metadata": {
        "id": "S0xt9UNgiNa_",
        "colab_type": "text"
      },
      "source": [
        "### Investigate the number of unique values per column"
      ]
    },
    {
      "cell_type": "code",
      "metadata": {
        "id": "4Og7lJn4hl6x",
        "colab_type": "code",
        "outputId": "b3e47005-720a-466d-d018-96385158c42b",
        "colab": {
          "base_uri": "https://localhost:8080/",
          "height": 238
        }
      },
      "source": [
        "for column in X.columns[categorical_cols]:\n",
        "\n",
        "  print(f'{column}: {len(X[column].value_counts())}')"
      ],
      "execution_count": 21,
      "outputs": [
        {
          "output_type": "stream",
          "text": [
            "region: 377\n",
            "manufacturer: 36\n",
            "model: 2575\n",
            "condition: 6\n",
            "cylinders: 8\n",
            "fuel: 5\n",
            "title_status: 6\n",
            "transmission: 3\n",
            "drive: 3\n",
            "size: 4\n",
            "type: 13\n",
            "paint_color: 12\n",
            "state: 51\n"
          ],
          "name": "stdout"
        }
      ]
    },
    {
      "cell_type": "markdown",
      "metadata": {
        "id": "diOJozgDbg1H",
        "colab_type": "text"
      },
      "source": [
        "### Feature engineering: 'Model'\n",
        "\n",
        "Removing models that have limited appearances in the dataset will help mitigate overfitting. So we need to find a suitable threshold that eliminates infrequently appearing models while also not removing so many that valuable information is lost."
      ]
    },
    {
      "cell_type": "code",
      "metadata": {
        "id": "3qyhKSaRij66",
        "colab_type": "code",
        "colab": {}
      },
      "source": [
        "X['model'].fillna('unk', inplace=True)\n",
        "\n",
        "model_value_counts = pd.DataFrame(X['model'].value_counts())\n",
        "\n",
        "model_counts = []\n",
        "\n",
        "for company in X['model']:\n",
        "\n",
        "  count = model_value_counts.loc[company, 'model']\n",
        "\n",
        "  model_counts.append(count)\n",
        "\n",
        "X['model_counts'] = model_counts"
      ],
      "execution_count": 0,
      "outputs": []
    },
    {
      "cell_type": "code",
      "metadata": {
        "id": "awuXt32Th5oS",
        "colab_type": "code",
        "outputId": "87c82c85-ca44-44c3-8561-a109947d0ce8",
        "colab": {
          "base_uri": "https://localhost:8080/",
          "height": 34
        }
      },
      "source": [
        "print('Ratio of model_counts less than 2:', len(X[X['model_counts'] < 2]) / len(X))"
      ],
      "execution_count": 23,
      "outputs": [
        {
          "output_type": "stream",
          "text": [
            "Ratio of model_counts less than 2: 0.2429893819765859\n"
          ],
          "name": "stdout"
        }
      ]
    },
    {
      "cell_type": "markdown",
      "metadata": {
        "id": "hswwcN5laFl7",
        "colab_type": "text"
      },
      "source": [
        "Deleting any car model that has fewer than 2 total instances will drastically reduce number of one-hot encoded features (by 24.3% to be precise), thus making our model more streamlined and efficient.\n"
      ]
    },
    {
      "cell_type": "code",
      "metadata": {
        "id": "Ly4IgBDscaTC",
        "colab_type": "code",
        "outputId": "a78d51c7-81e9-4c47-8204-b0e573f16f88",
        "colab": {
          "base_uri": "https://localhost:8080/",
          "height": 102
        }
      },
      "source": [
        "bool_mask = X['model_counts'] < 2\n",
        "\n",
        "X['model'].loc[bool_mask] = 'unk'\n",
        "\n",
        "X = X.drop('model_counts', axis=1)"
      ],
      "execution_count": 24,
      "outputs": [
        {
          "output_type": "stream",
          "text": [
            "/usr/local/lib/python3.6/dist-packages/pandas/core/indexing.py:671: SettingWithCopyWarning: \n",
            "A value is trying to be set on a copy of a slice from a DataFrame\n",
            "\n",
            "See the caveats in the documentation: https://pandas.pydata.org/pandas-docs/stable/user_guide/indexing.html#returning-a-view-versus-a-copy\n",
            "  self._setitem_with_indexer(indexer, value)\n"
          ],
          "name": "stderr"
        }
      ]
    },
    {
      "cell_type": "markdown",
      "metadata": {
        "id": "mmFlVsjibMtE",
        "colab_type": "text"
      },
      "source": [
        "### Feature engineering: 'Region'\n",
        "\n",
        "Similar to the feature selection for models, we want to remove regions that appear infrequently."
      ]
    },
    {
      "cell_type": "code",
      "metadata": {
        "id": "hNtcQYtKbofG",
        "colab_type": "code",
        "colab": {}
      },
      "source": [
        "X['region'].fillna('unk', inplace=True)\n",
        "\n",
        "region_value_counts = pd.DataFrame(X['region'].value_counts())\n",
        "\n",
        "region_counts = []\n",
        "\n",
        "for region in X['region']:\n",
        "\n",
        "  count = region_value_counts.loc[region, 'region']\n",
        "\n",
        "  region_counts.append(count)\n",
        "\n",
        "X['region_counts'] = region_counts"
      ],
      "execution_count": 0,
      "outputs": []
    },
    {
      "cell_type": "code",
      "metadata": {
        "id": "h4ZXzuEdbocM",
        "colab_type": "code",
        "outputId": "6c49b1ea-310c-45c5-e429-2e368bf50c22",
        "colab": {
          "base_uri": "https://localhost:8080/",
          "height": 34
        }
      },
      "source": [
        "print('Ratio of regions less than 10:', len(X[X['region_counts'] < 10]) / len(X))"
      ],
      "execution_count": 26,
      "outputs": [
        {
          "output_type": "stream",
          "text": [
            "Ratio of regions less than 10: 0.0917506125782739\n"
          ],
          "name": "stdout"
        }
      ]
    },
    {
      "cell_type": "markdown",
      "metadata": {
        "id": "N-F79xd7c_YO",
        "colab_type": "text"
      },
      "source": [
        "Since only a little over 9% of the regions appear fewer than 10 times, we'll go ahead and replace all of those regions with 'unk' so we can further reduce dimensionality of infrequent occurences. We could raise the threshold and further remove regions, but removing too many regions runs the risk of being overly restrictive and casting away valuable information for our machine learning model."
      ]
    },
    {
      "cell_type": "code",
      "metadata": {
        "id": "xT48SpCNboZU",
        "colab_type": "code",
        "outputId": "d378e2c0-6570-4ba9-8555-f49779b6043c",
        "colab": {
          "base_uri": "https://localhost:8080/",
          "height": 102
        }
      },
      "source": [
        "bool_mask = X['region_counts'] < 10\n",
        "\n",
        "X['region'].loc[bool_mask] = 'unk'\n",
        "\n",
        "X = X.drop('region_counts', axis=1)"
      ],
      "execution_count": 27,
      "outputs": [
        {
          "output_type": "stream",
          "text": [
            "/usr/local/lib/python3.6/dist-packages/pandas/core/indexing.py:671: SettingWithCopyWarning: \n",
            "A value is trying to be set on a copy of a slice from a DataFrame\n",
            "\n",
            "See the caveats in the documentation: https://pandas.pydata.org/pandas-docs/stable/user_guide/indexing.html#returning-a-view-versus-a-copy\n",
            "  self._setitem_with_indexer(indexer, value)\n"
          ],
          "name": "stderr"
        }
      ]
    },
    {
      "cell_type": "markdown",
      "metadata": {
        "id": "J6zrrIvu95oK",
        "colab_type": "text"
      },
      "source": [
        "### Combine state and region categories, since almost all regions are specific to a certain state.\n",
        "\n",
        "In other words, there's no point in having regions (which are uniuqe to specific states, typically although not always) and states as separate categories. Further, we don't want to just use regions and not states, as some regions do fall on the border between states (see Kansas City, MO/KS, for example), nor do we want to just use states as this will be unnecessarily broad and less informative than using regions which are more granular.\n",
        "\n",
        "This process of combining the two features will further help reduce dimensionality so that one-hot encoding does not blow up the feature space."
      ]
    },
    {
      "cell_type": "code",
      "metadata": {
        "id": "V6P1fkaxmAbv",
        "colab_type": "code",
        "colab": {}
      },
      "source": [
        "comb_state_region = []\n",
        "\n",
        "for state, region in zip(X['state'], X['region']):\n",
        "\n",
        "  comb = state + ' ' + region\n",
        "\n",
        "  comb_state_region.append(comb)\n",
        "\n",
        "X['comb_region'] = comb_state_region\n",
        "\n",
        "X = X.drop(['state', 'region'], axis=1)"
      ],
      "execution_count": 0,
      "outputs": []
    },
    {
      "cell_type": "markdown",
      "metadata": {
        "id": "ZdmagduglD7O",
        "colab_type": "text"
      },
      "source": [
        "### PolynomialFeatures\n",
        "\n",
        "Polynomial Features is being used to add an interaction term that's the result of the two numerical features ('year' and 'odometer') being multiplied together."
      ]
    },
    {
      "cell_type": "code",
      "metadata": {
        "id": "t5rpVymdqfju",
        "colab_type": "code",
        "colab": {}
      },
      "source": [
        "from sklearn.preprocessing import PolynomialFeatures\n",
        "\n",
        "pol_feats = PolynomialFeatures(2, interaction_only=True)\n",
        "\n",
        "transformed_cols = pol_feats.fit_transform(X[['year', 'odometer']])\n",
        "\n",
        "X['year_x_odo'] = transformed_cols[:,3]"
      ],
      "execution_count": 0,
      "outputs": []
    },
    {
      "cell_type": "code",
      "metadata": {
        "id": "bw-rvCWIZLfl",
        "colab_type": "code",
        "outputId": "e64fcefc-7c38-4af8-c9e1-5407d938e8ba",
        "colab": {
          "base_uri": "https://localhost:8080/",
          "height": 255
        }
      },
      "source": [
        "X.head()"
      ],
      "execution_count": 30,
      "outputs": [
        {
          "output_type": "execute_result",
          "data": {
            "text/html": [
              "<div>\n",
              "<style scoped>\n",
              "    .dataframe tbody tr th:only-of-type {\n",
              "        vertical-align: middle;\n",
              "    }\n",
              "\n",
              "    .dataframe tbody tr th {\n",
              "        vertical-align: top;\n",
              "    }\n",
              "\n",
              "    .dataframe thead th {\n",
              "        text-align: right;\n",
              "    }\n",
              "</style>\n",
              "<table border=\"1\" class=\"dataframe\">\n",
              "  <thead>\n",
              "    <tr style=\"text-align: right;\">\n",
              "      <th></th>\n",
              "      <th>year</th>\n",
              "      <th>manufacturer</th>\n",
              "      <th>model</th>\n",
              "      <th>condition</th>\n",
              "      <th>cylinders</th>\n",
              "      <th>fuel</th>\n",
              "      <th>odometer</th>\n",
              "      <th>title_status</th>\n",
              "      <th>transmission</th>\n",
              "      <th>drive</th>\n",
              "      <th>size</th>\n",
              "      <th>type</th>\n",
              "      <th>paint_color</th>\n",
              "      <th>comb_region</th>\n",
              "      <th>year_x_odo</th>\n",
              "    </tr>\n",
              "  </thead>\n",
              "  <tbody>\n",
              "    <tr>\n",
              "      <th>0</th>\n",
              "      <td>2016.0</td>\n",
              "      <td>toyota</td>\n",
              "      <td>tundra</td>\n",
              "      <td>NaN</td>\n",
              "      <td>8 cylinders</td>\n",
              "      <td>gas</td>\n",
              "      <td>50305.0</td>\n",
              "      <td>clean</td>\n",
              "      <td>automatic</td>\n",
              "      <td>4wd</td>\n",
              "      <td>NaN</td>\n",
              "      <td>pickup</td>\n",
              "      <td>black</td>\n",
              "      <td>ny albany</td>\n",
              "      <td>101414880.0</td>\n",
              "    </tr>\n",
              "    <tr>\n",
              "      <th>1</th>\n",
              "      <td>2003.0</td>\n",
              "      <td>ford</td>\n",
              "      <td>escape xlt 4x4</td>\n",
              "      <td>excellent</td>\n",
              "      <td>6 cylinders</td>\n",
              "      <td>gas</td>\n",
              "      <td>184000.0</td>\n",
              "      <td>clean</td>\n",
              "      <td>automatic</td>\n",
              "      <td>4wd</td>\n",
              "      <td>NaN</td>\n",
              "      <td>SUV</td>\n",
              "      <td>blue</td>\n",
              "      <td>il st louis, MO</td>\n",
              "      <td>368552000.0</td>\n",
              "    </tr>\n",
              "    <tr>\n",
              "      <th>2</th>\n",
              "      <td>2015.0</td>\n",
              "      <td>ford</td>\n",
              "      <td>unk</td>\n",
              "      <td>like new</td>\n",
              "      <td>4 cylinders</td>\n",
              "      <td>gas</td>\n",
              "      <td>95909.0</td>\n",
              "      <td>clean</td>\n",
              "      <td>automatic</td>\n",
              "      <td>4wd</td>\n",
              "      <td>full-size</td>\n",
              "      <td>SUV</td>\n",
              "      <td>blue</td>\n",
              "      <td>ny unk</td>\n",
              "      <td>193256635.0</td>\n",
              "    </tr>\n",
              "    <tr>\n",
              "      <th>3</th>\n",
              "      <td>2012.0</td>\n",
              "      <td>gmc</td>\n",
              "      <td>unk</td>\n",
              "      <td>like new</td>\n",
              "      <td>8 cylinders</td>\n",
              "      <td>gas</td>\n",
              "      <td>47700.0</td>\n",
              "      <td>clean</td>\n",
              "      <td>automatic</td>\n",
              "      <td>4wd</td>\n",
              "      <td>full-size</td>\n",
              "      <td>truck</td>\n",
              "      <td>black</td>\n",
              "      <td>ny unk</td>\n",
              "      <td>95972400.0</td>\n",
              "    </tr>\n",
              "    <tr>\n",
              "      <th>4</th>\n",
              "      <td>2017.0</td>\n",
              "      <td>chevrolet</td>\n",
              "      <td>traverse</td>\n",
              "      <td>NaN</td>\n",
              "      <td>NaN</td>\n",
              "      <td>gas</td>\n",
              "      <td>74268.0</td>\n",
              "      <td>clean</td>\n",
              "      <td>automatic</td>\n",
              "      <td>NaN</td>\n",
              "      <td>NaN</td>\n",
              "      <td>NaN</td>\n",
              "      <td>NaN</td>\n",
              "      <td>tx san antonio</td>\n",
              "      <td>149798556.0</td>\n",
              "    </tr>\n",
              "  </tbody>\n",
              "</table>\n",
              "</div>"
            ],
            "text/plain": [
              "     year manufacturer  ...      comb_region   year_x_odo\n",
              "0  2016.0       toyota  ...        ny albany  101414880.0\n",
              "1  2003.0         ford  ...  il st louis, MO  368552000.0\n",
              "2  2015.0         ford  ...           ny unk  193256635.0\n",
              "3  2012.0          gmc  ...           ny unk   95972400.0\n",
              "4  2017.0    chevrolet  ...   tx san antonio  149798556.0\n",
              "\n",
              "[5 rows x 15 columns]"
            ]
          },
          "metadata": {
            "tags": []
          },
          "execution_count": 30
        }
      ]
    },
    {
      "cell_type": "markdown",
      "metadata": {
        "id": "6eS1Cgp2r7Ax",
        "colab_type": "text"
      },
      "source": [
        "## Task 4 Any model\n",
        "### Use any classification model we discussed (trees, forests, gradient boosting, SVM) to improve your result. You can (and probably should) change your preprocessing and feature engineering to be suitable for the model. You are not required to try all of these models. Tune parameters as appropriate."
      ]
    },
    {
      "cell_type": "code",
      "metadata": {
        "id": "m4ie-BzF0p1t",
        "colab_type": "code",
        "colab": {}
      },
      "source": [
        "X = X.reset_index(drop=True)"
      ],
      "execution_count": 0,
      "outputs": []
    },
    {
      "cell_type": "code",
      "metadata": {
        "id": "d1aSnf4wwAxf",
        "colab_type": "code",
        "colab": {}
      },
      "source": [
        "from sklearn.model_selection import train_test_split\n",
        "\n",
        "X_train, X_val, y_train, y_val = train_test_split(X, y, train_size=0.8, random_state=42)"
      ],
      "execution_count": 0,
      "outputs": []
    },
    {
      "cell_type": "markdown",
      "metadata": {
        "id": "F9oxFHepdIfn",
        "colab_type": "text"
      },
      "source": [
        "### Preprocessing\n",
        "\n",
        "1) Imputing missing values. For numerical features, by using each feature's median; for categorical features, by using an arbitrary string constant.\n",
        "\n",
        "2) Scaling numerical features with MinMaxScaler so that each feature's values range from 0 to 1.\n",
        "\n",
        "3) Target Encode each categorical feature so that each category is given a value based on its mean response in the target variable, smoothed by the global mean of the target variable."
      ]
    },
    {
      "cell_type": "code",
      "metadata": {
        "id": "ZOjiSv1XX9IA",
        "colab_type": "code",
        "outputId": "607266f1-5a1b-40d3-e21d-a2c0b2834471",
        "colab": {
          "base_uri": "https://localhost:8080/",
          "height": 292
        }
      },
      "source": [
        "! pip install category_encoders"
      ],
      "execution_count": 33,
      "outputs": [
        {
          "output_type": "stream",
          "text": [
            "Collecting category_encoders\n",
            "\u001b[?25l  Downloading https://files.pythonhosted.org/packages/a0/52/c54191ad3782de633ea3d6ee3bb2837bda0cf3bc97644bb6375cf14150a0/category_encoders-2.1.0-py2.py3-none-any.whl (100kB)\n",
            "\u001b[K     |████████████████████████████████| 102kB 1.3MB/s \n",
            "\u001b[?25hRequirement already satisfied: scipy>=0.19.0 in /usr/local/lib/python3.6/dist-packages (from category_encoders) (1.4.1)\n",
            "Requirement already satisfied: numpy>=1.11.3 in /usr/local/lib/python3.6/dist-packages (from category_encoders) (1.18.2)\n",
            "Requirement already satisfied: pandas>=0.21.1 in /usr/local/lib/python3.6/dist-packages (from category_encoders) (1.0.3)\n",
            "Requirement already satisfied: patsy>=0.4.1 in /usr/local/lib/python3.6/dist-packages (from category_encoders) (0.5.1)\n",
            "Requirement already satisfied: scikit-learn>=0.20.0 in /usr/local/lib/python3.6/dist-packages (from category_encoders) (0.22.2.post1)\n",
            "Requirement already satisfied: statsmodels>=0.6.1 in /usr/local/lib/python3.6/dist-packages (from category_encoders) (0.10.2)\n",
            "Requirement already satisfied: pytz>=2017.2 in /usr/local/lib/python3.6/dist-packages (from pandas>=0.21.1->category_encoders) (2018.9)\n",
            "Requirement already satisfied: python-dateutil>=2.6.1 in /usr/local/lib/python3.6/dist-packages (from pandas>=0.21.1->category_encoders) (2.8.1)\n",
            "Requirement already satisfied: six in /usr/local/lib/python3.6/dist-packages (from patsy>=0.4.1->category_encoders) (1.12.0)\n",
            "Requirement already satisfied: joblib>=0.11 in /usr/local/lib/python3.6/dist-packages (from scikit-learn>=0.20.0->category_encoders) (0.14.1)\n",
            "Installing collected packages: category-encoders\n",
            "Successfully installed category-encoders-2.1.0\n"
          ],
          "name": "stdout"
        }
      ]
    },
    {
      "cell_type": "code",
      "metadata": {
        "id": "8GfA-_U6wW6J",
        "colab_type": "code",
        "colab": {}
      },
      "source": [
        "from category_encoders import TargetEncoder\n",
        "from sklearn.preprocessing import StandardScaler\n",
        "from sklearn.compose import ColumnTransformer\n",
        "from sklearn.pipeline import Pipeline\n",
        "\n",
        "numerical_cols = X_train.dtypes != object\n",
        "\n",
        "categorical_cols = ~numerical_cols\n",
        "\n",
        "numerical_preprocessor = Pipeline(steps=[('numericalimputer', SimpleImputer(strategy='median')),\n",
        "                                         ('minmaxscaler', MinMaxScaler())])\n",
        "\n",
        "categorical_preprocessor = Pipeline(steps=[('categoricalimputer', SimpleImputer(strategy='constant')),\n",
        "                                           ('onehotencoder', TargetEncoder(handle_unknown='ignore')),\n",
        "                                           ('categoricalimputer2', SimpleImputer(strategy='constant'))])\n",
        "\n",
        "preprocessor = ColumnTransformer(transformers=[('numerical', numerical_preprocessor, numerical_cols),\n",
        "                                               ('categorical', categorical_preprocessor, categorical_cols)], remainder='passthrough')"
      ],
      "execution_count": 0,
      "outputs": []
    },
    {
      "cell_type": "markdown",
      "metadata": {
        "id": "6spbghlmsX82",
        "colab_type": "text"
      },
      "source": [
        "### Model 1: Lasso Regression"
      ]
    },
    {
      "cell_type": "code",
      "metadata": {
        "id": "mm2APMO5sWdK",
        "colab_type": "code",
        "outputId": "ce8f1dc2-73d9-400f-805a-700e735abc3b",
        "colab": {
          "base_uri": "https://localhost:8080/",
          "height": 105
        }
      },
      "source": [
        "from sklearn.model_selection import GridSearchCV\n",
        "from sklearn.linear_model import Lasso\n",
        "\n",
        "pipe = Pipeline(steps=[('preprocessor', preprocessor), ('lasso', Lasso())])\n",
        "\n",
        "param_grid = {'lasso__alpha': np.logspace(0,2,3)}\n",
        "\n",
        "grid = GridSearchCV(pipe, param_grid, cv=5).fit(X_train, y_train)\n",
        "\n",
        "print(f'Best params:', grid.best_params_)\n",
        "\n",
        "print(f'Train cv score: {max(grid.cv_results_[\"mean_test_score\"])}')"
      ],
      "execution_count": 35,
      "outputs": [
        {
          "output_type": "stream",
          "text": [
            "Best params: {'lasso__alpha': 1.0}\n",
            "Train cv score: 0.3866327639117676\n"
          ],
          "name": "stdout"
        },
        {
          "output_type": "stream",
          "text": [
            "/usr/local/lib/python3.6/dist-packages/sklearn/linear_model/_coordinate_descent.py:476: ConvergenceWarning: Objective did not converge. You might want to increase the number of iterations. Duality gap: 362858433.4529419, tolerance: 75813087.3240341\n",
            "  positive)\n"
          ],
          "name": "stderr"
        }
      ]
    },
    {
      "cell_type": "markdown",
      "metadata": {
        "id": "1udxWA11HV7A",
        "colab_type": "text"
      },
      "source": [
        "### Model 2: Random Forest"
      ]
    },
    {
      "cell_type": "code",
      "metadata": {
        "id": "kvj3pAny4a8Y",
        "colab_type": "code",
        "outputId": "51aed2b3-0a0b-46b3-fcf2-612051ba4346",
        "colab": {
          "base_uri": "https://localhost:8080/",
          "height": 34
        }
      },
      "source": [
        "from sklearn.ensemble import RandomForestRegressor\n",
        "\n",
        "pipe = make_pipeline(preprocessor, RandomForestRegressor())\n",
        "\n",
        "scores = cross_val_score(pipe, X_train, y_train, cv=5)\n",
        "\n",
        "print(f'Train cv score: {np.mean(scores)}')"
      ],
      "execution_count": 37,
      "outputs": [
        {
          "output_type": "stream",
          "text": [
            "Train cv score: 0.6648431994411179\n"
          ],
          "name": "stdout"
        }
      ]
    },
    {
      "cell_type": "markdown",
      "metadata": {
        "id": "pKCfubfDHYMJ",
        "colab_type": "text"
      },
      "source": [
        "### Model 3: Gradient Boosting"
      ]
    },
    {
      "cell_type": "code",
      "metadata": {
        "id": "Qzm_Fd2pCNj1",
        "colab_type": "code",
        "outputId": "fd773e43-b72a-4324-9aea-8a44abe38a56",
        "colab": {
          "base_uri": "https://localhost:8080/",
          "height": 51
        }
      },
      "source": [
        "from sklearn.ensemble import GradientBoostingRegressor\n",
        "\n",
        "pipe = make_pipeline(preprocessor, GradientBoostingRegressor(n_estimators=100, warm_start=True))\n",
        "\n",
        "param_grid = {'gradientboostingregressor__learning_rate': np.logspace(-3,0,4)}\n",
        "\n",
        "grid = GridSearchCV(pipe, param_grid, cv=5).fit(X_train, y_train)\n",
        "\n",
        "print(f'Best params: {grid.best_params_}')\n",
        "\n",
        "print(f'Train cv score: {max(grid.cv_results_[\"mean_test_score\"])}')"
      ],
      "execution_count": 38,
      "outputs": [
        {
          "output_type": "stream",
          "text": [
            "Best params: {'gradientboostingregressor__learning_rate': 0.1}\n",
            "Train cv score: 0.6636131457964083\n"
          ],
          "name": "stdout"
        }
      ]
    },
    {
      "cell_type": "markdown",
      "metadata": {
        "id": "UdV5cTIzHaH7",
        "colab_type": "text"
      },
      "source": [
        "### Model 4: Support Vector Regressor"
      ]
    },
    {
      "cell_type": "code",
      "metadata": {
        "id": "Kw4YLByQDAmS",
        "colab_type": "code",
        "outputId": "ad05e0e8-d415-4fc6-bbe4-321f35c2dfa6",
        "colab": {
          "base_uri": "https://localhost:8080/",
          "height": 935
        }
      },
      "source": [
        "from sklearn.svm import LinearSVR\n",
        "\n",
        "pipe = make_pipeline(preprocessor, LinearSVR())\n",
        "\n",
        "param_grid = {'linearsvr__C': np.logspace(-1,3,5)}\n",
        "\n",
        "grid = GridSearchCV(pipe, param_grid, cv=5).fit(X_train, y_train)\n",
        "\n",
        "print(f'Best params: {grid.best_params_}')\n",
        "\n",
        "print(f'Train cv score: {max(grid.cv_results_[\"mean_test_score\"])}')"
      ],
      "execution_count": 39,
      "outputs": [
        {
          "output_type": "stream",
          "text": [
            "/usr/local/lib/python3.6/dist-packages/sklearn/svm/_base.py:947: ConvergenceWarning: Liblinear failed to converge, increase the number of iterations.\n",
            "  \"the number of iterations.\", ConvergenceWarning)\n",
            "/usr/local/lib/python3.6/dist-packages/sklearn/svm/_base.py:947: ConvergenceWarning: Liblinear failed to converge, increase the number of iterations.\n",
            "  \"the number of iterations.\", ConvergenceWarning)\n",
            "/usr/local/lib/python3.6/dist-packages/sklearn/svm/_base.py:947: ConvergenceWarning: Liblinear failed to converge, increase the number of iterations.\n",
            "  \"the number of iterations.\", ConvergenceWarning)\n",
            "/usr/local/lib/python3.6/dist-packages/sklearn/svm/_base.py:947: ConvergenceWarning: Liblinear failed to converge, increase the number of iterations.\n",
            "  \"the number of iterations.\", ConvergenceWarning)\n",
            "/usr/local/lib/python3.6/dist-packages/sklearn/svm/_base.py:947: ConvergenceWarning: Liblinear failed to converge, increase the number of iterations.\n",
            "  \"the number of iterations.\", ConvergenceWarning)\n",
            "/usr/local/lib/python3.6/dist-packages/sklearn/svm/_base.py:947: ConvergenceWarning: Liblinear failed to converge, increase the number of iterations.\n",
            "  \"the number of iterations.\", ConvergenceWarning)\n",
            "/usr/local/lib/python3.6/dist-packages/sklearn/svm/_base.py:947: ConvergenceWarning: Liblinear failed to converge, increase the number of iterations.\n",
            "  \"the number of iterations.\", ConvergenceWarning)\n",
            "/usr/local/lib/python3.6/dist-packages/sklearn/svm/_base.py:947: ConvergenceWarning: Liblinear failed to converge, increase the number of iterations.\n",
            "  \"the number of iterations.\", ConvergenceWarning)\n",
            "/usr/local/lib/python3.6/dist-packages/sklearn/svm/_base.py:947: ConvergenceWarning: Liblinear failed to converge, increase the number of iterations.\n",
            "  \"the number of iterations.\", ConvergenceWarning)\n",
            "/usr/local/lib/python3.6/dist-packages/sklearn/svm/_base.py:947: ConvergenceWarning: Liblinear failed to converge, increase the number of iterations.\n",
            "  \"the number of iterations.\", ConvergenceWarning)\n",
            "/usr/local/lib/python3.6/dist-packages/sklearn/svm/_base.py:947: ConvergenceWarning: Liblinear failed to converge, increase the number of iterations.\n",
            "  \"the number of iterations.\", ConvergenceWarning)\n",
            "/usr/local/lib/python3.6/dist-packages/sklearn/svm/_base.py:947: ConvergenceWarning: Liblinear failed to converge, increase the number of iterations.\n",
            "  \"the number of iterations.\", ConvergenceWarning)\n",
            "/usr/local/lib/python3.6/dist-packages/sklearn/svm/_base.py:947: ConvergenceWarning: Liblinear failed to converge, increase the number of iterations.\n",
            "  \"the number of iterations.\", ConvergenceWarning)\n",
            "/usr/local/lib/python3.6/dist-packages/sklearn/svm/_base.py:947: ConvergenceWarning: Liblinear failed to converge, increase the number of iterations.\n",
            "  \"the number of iterations.\", ConvergenceWarning)\n",
            "/usr/local/lib/python3.6/dist-packages/sklearn/svm/_base.py:947: ConvergenceWarning: Liblinear failed to converge, increase the number of iterations.\n",
            "  \"the number of iterations.\", ConvergenceWarning)\n",
            "/usr/local/lib/python3.6/dist-packages/sklearn/svm/_base.py:947: ConvergenceWarning: Liblinear failed to converge, increase the number of iterations.\n",
            "  \"the number of iterations.\", ConvergenceWarning)\n",
            "/usr/local/lib/python3.6/dist-packages/sklearn/svm/_base.py:947: ConvergenceWarning: Liblinear failed to converge, increase the number of iterations.\n",
            "  \"the number of iterations.\", ConvergenceWarning)\n",
            "/usr/local/lib/python3.6/dist-packages/sklearn/svm/_base.py:947: ConvergenceWarning: Liblinear failed to converge, increase the number of iterations.\n",
            "  \"the number of iterations.\", ConvergenceWarning)\n",
            "/usr/local/lib/python3.6/dist-packages/sklearn/svm/_base.py:947: ConvergenceWarning: Liblinear failed to converge, increase the number of iterations.\n",
            "  \"the number of iterations.\", ConvergenceWarning)\n",
            "/usr/local/lib/python3.6/dist-packages/sklearn/svm/_base.py:947: ConvergenceWarning: Liblinear failed to converge, increase the number of iterations.\n",
            "  \"the number of iterations.\", ConvergenceWarning)\n",
            "/usr/local/lib/python3.6/dist-packages/sklearn/svm/_base.py:947: ConvergenceWarning: Liblinear failed to converge, increase the number of iterations.\n",
            "  \"the number of iterations.\", ConvergenceWarning)\n",
            "/usr/local/lib/python3.6/dist-packages/sklearn/svm/_base.py:947: ConvergenceWarning: Liblinear failed to converge, increase the number of iterations.\n",
            "  \"the number of iterations.\", ConvergenceWarning)\n",
            "/usr/local/lib/python3.6/dist-packages/sklearn/svm/_base.py:947: ConvergenceWarning: Liblinear failed to converge, increase the number of iterations.\n",
            "  \"the number of iterations.\", ConvergenceWarning)\n",
            "/usr/local/lib/python3.6/dist-packages/sklearn/svm/_base.py:947: ConvergenceWarning: Liblinear failed to converge, increase the number of iterations.\n",
            "  \"the number of iterations.\", ConvergenceWarning)\n",
            "/usr/local/lib/python3.6/dist-packages/sklearn/svm/_base.py:947: ConvergenceWarning: Liblinear failed to converge, increase the number of iterations.\n",
            "  \"the number of iterations.\", ConvergenceWarning)\n"
          ],
          "name": "stderr"
        },
        {
          "output_type": "stream",
          "text": [
            "Best params: {'linearsvr__C': 1000.0}\n",
            "Train cv score: -0.1528875020308616\n"
          ],
          "name": "stdout"
        },
        {
          "output_type": "stream",
          "text": [
            "/usr/local/lib/python3.6/dist-packages/sklearn/svm/_base.py:947: ConvergenceWarning: Liblinear failed to converge, increase the number of iterations.\n",
            "  \"the number of iterations.\", ConvergenceWarning)\n"
          ],
          "name": "stderr"
        }
      ]
    },
    {
      "cell_type": "markdown",
      "metadata": {
        "id": "1OFO4L_6HPs8",
        "colab_type": "text"
      },
      "source": [
        "## Task 5 Feature Selections\n",
        "### Identify features that are important for your best model. Which features are most influential, and which features could be removed without decrease in performance? Does removing irrelevant features make your model better? (This will be discussed in the lecture on 03/04)."
      ]
    },
    {
      "cell_type": "code",
      "metadata": {
        "id": "kDv-1FP34QcO",
        "colab_type": "code",
        "outputId": "66835cec-772d-4317-ea71-acf4721de492",
        "colab": {
          "base_uri": "https://localhost:8080/",
          "height": 51
        }
      },
      "source": [
        "from sklearn.ensemble import RandomForestRegressor\n",
        "\n",
        "X_train_proc = preprocessor.fit_transform(X_train, y_train)\n",
        "\n",
        "clf = RandomForestRegressor().fit(X_train_proc, y_train)\n",
        "\n",
        "scores = cross_val_score(clf, X_train_proc, y_train, cv=5)\n",
        "\n",
        "print(f'Train cv score: {np.mean(scores)}')\n",
        "\n",
        "X_val_proc = preprocessor.transform(X_val)\n",
        "\n",
        "print(f'Validation score: {clf.score(X_val_proc, y_val)}')"
      ],
      "execution_count": 42,
      "outputs": [
        {
          "output_type": "stream",
          "text": [
            "Train cv score: 0.6677861365701192\n",
            "Validation score: 0.6886743354877283\n"
          ],
          "name": "stdout"
        }
      ]
    },
    {
      "cell_type": "markdown",
      "metadata": {
        "id": "u0o9a8GKv76G",
        "colab_type": "text"
      },
      "source": [
        "### If OHE: Get Feature Names"
      ]
    },
    {
      "cell_type": "code",
      "metadata": {
        "id": "35-Rt0NNnmDN",
        "colab_type": "code",
        "colab": {}
      },
      "source": [
        "list_feat_names = ['year', 'odometer', 'year_x_odo']\n",
        "\n",
        "for i in range(12):\n",
        "\n",
        "  feature_list = preprocessor.transformers_[1][1].named_steps['onehotencoder'].categories_[i].tolist()\n",
        "\n",
        "  for item in feature_list:\n",
        "\n",
        "    list_feat_names.append(item)"
      ],
      "execution_count": 0,
      "outputs": []
    },
    {
      "cell_type": "markdown",
      "metadata": {
        "id": "vX8o8wSwoPgN",
        "colab_type": "text"
      },
      "source": [
        "## Plot Feature Importances"
      ]
    },
    {
      "cell_type": "code",
      "metadata": {
        "id": "mYFwtBOjND9b",
        "colab_type": "code",
        "colab": {}
      },
      "source": [
        "coefs = clf.feature_importances_\n",
        "\n",
        "feature_tuples = list(enumerate(X_train.columns))\n",
        "\n",
        "sorted_indices, sorted_values = np.argsort(coefs)[::-1], sorted(coefs, reverse=True)\n",
        "\n",
        "sorted_features = []\n",
        "\n",
        "for index in sorted_indices:\n",
        "  for i, feature in feature_tuples:\n",
        "    if index == i:\n",
        "      sorted_features.append(feature)"
      ],
      "execution_count": 0,
      "outputs": []
    },
    {
      "cell_type": "code",
      "metadata": {
        "id": "dOG4V7G3pfLi",
        "colab_type": "code",
        "colab": {
          "base_uri": "https://localhost:8080/",
          "height": 585
        },
        "outputId": "edeb70a1-5c4d-4454-c917-7791934a31e8"
      },
      "source": [
        "fig, ax = plt.subplots(figsize=(16,8))\n",
        "\n",
        "sns.barplot(list(range(len(coefs))), sorted_values, ax=ax)\n",
        "\n",
        "ax.set_xticklabels(sorted_features, rotation=90, size=11)\n",
        "\n",
        "ax.set_title('Ranked Feature Importances', size=25)\n",
        "\n",
        "ax.set_xlabel('Feature Name', size=15)\n",
        "\n",
        "ax.set_ylabel('Feature Importance by Impurity Decrease', size=15, rotation=90)\n",
        "\n",
        "plt.tight_layout()"
      ],
      "execution_count": 44,
      "outputs": [
        {
          "output_type": "display_data",
          "data": {
            "image/png": "[encoded data removed]",
            "text/plain": [
              "<Figure size 1152x576 with 1 Axes>"
            ]
          },
          "metadata": {
            "tags": []
          }
        }
      ]
    },
    {
      "cell_type": "markdown",
      "metadata": {
        "id": "Lig-kcN5dM3_",
        "colab_type": "text"
      },
      "source": [
        "The above plot illustrates the feature importances (calculated as the decrease in node impurity), beginning with 'year' on the left (the most important feature) and running rightward to 'transmission' on the far right. 'Year' makes sense as the most important feature since the older a car gets the more its expected value drops on average. We would expect, on average, for older cars to be predicted to be worth less than newer cars.\n",
        "\n",
        "The second- and third-most important features, 'title_status' and 'size', have feature importances that are each less than a third the total feature importance of 'year'. What this means is that, although each are important features, the age of a car is clearly the best single determinant for the predicted value of a used car on Craigslist. Other important features include 'manufacturer', 'odometer', and 'model'.\n",
        "\n",
        "The next step will be to remove the least relevant features. We will select the 10 most important features, and see how the model performs."
      ]
    },
    {
      "cell_type": "markdown",
      "metadata": {
        "id": "8ypUZV1SveZB",
        "colab_type": "text"
      },
      "source": [
        "### Build New Model that Removes Unimportant Features\n"
      ]
    },
    {
      "cell_type": "code",
      "metadata": {
        "id": "qEI-LH4KvqeN",
        "colab_type": "code",
        "colab": {
          "base_uri": "https://localhost:8080/",
          "height": 51
        },
        "outputId": "7844b146-cd06-4a65-93df-496cd921f9bb"
      },
      "source": [
        "from sklearn.feature_selection import SelectKBest, f_regression\n",
        "\n",
        "pipe = make_pipeline(preprocessor, SelectKBest(f_regression, k=10), RandomForestRegressor()).fit(X_train, y_train)\n",
        "\n",
        "scores = cross_val_score(pipe, X_train_proc, y_train, cv=5)\n",
        "\n",
        "print(f'Train cv score: {np.mean(scores)}')\n",
        "\n",
        "print(f'Validation score: {pipe.score(X_val, y_val)}')"
      ],
      "execution_count": 46,
      "outputs": [
        {
          "output_type": "stream",
          "text": [
            "Train cv score: 0.637191385214127\n",
            "Validation score: 0.677479178079865\n"
          ],
          "name": "stdout"
        }
      ]
    },
    {
      "cell_type": "markdown",
      "metadata": {
        "id": "6Jtu_LJS0y6S",
        "colab_type": "text"
      },
      "source": [
        "Removing the five least important features dropped the validation score slightly from 68.9% to 67.7%. That's not insignificant but it's also not a devastating drop, considering we dropped 1/3 of the original features. The result is encouraging because it means those features really didn't carry that much value for the model."
      ]
    },
    {
      "cell_type": "markdown",
      "metadata": {
        "id": "kZsPGbTJy2BX",
        "colab_type": "text"
      },
      "source": [
        "## Task 6 An explainable model\n",
        "### Can you create an “explainable” model that is nearly as good as your best model?\n",
        "### An explainable model should be small enough to be easily inspected - say a linear model with few enough coefficients that you can reasonably look at all of them, or a tree with a small number of leaves etc."
      ]
    },
    {
      "cell_type": "code",
      "metadata": {
        "id": "OK90zYnElj50",
        "colab_type": "code",
        "colab": {
          "base_uri": "https://localhost:8080/",
          "height": 51
        },
        "outputId": "6fc4c1b2-2939-4afa-c061-12d823648ec0"
      },
      "source": [
        "from sklearn.linear_model import LinearRegression\n",
        "\n",
        "X_train_proc = preprocessor.fit_transform(X_train, y_train)\n",
        "\n",
        "clf = LinearRegression().fit(X_train_proc, y_train)\n",
        "\n",
        "scores = cross_val_score(clf, X_train_proc, y_train)\n",
        "\n",
        "print(f'Train CV score: {np.mean(scores)}')\n",
        "\n",
        "X_val_proc = preprocessor.transform(X_val)\n",
        "\n",
        "print(f'Validation score: {clf.score(X_val_proc, y_val)}')"
      ],
      "execution_count": 48,
      "outputs": [
        {
          "output_type": "stream",
          "text": [
            "Train CV score: 0.39467822870789654\n",
            "Validation score: 0.4275367236234279\n"
          ],
          "name": "stdout"
        }
      ]
    },
    {
      "cell_type": "markdown",
      "metadata": {
        "id": "JWqdJGmDIXsZ",
        "colab_type": "text"
      },
      "source": [
        "### Rank Coefficients by Value"
      ]
    },
    {
      "cell_type": "code",
      "metadata": {
        "id": "xOjDHXlX6pjM",
        "colab_type": "code",
        "colab": {}
      },
      "source": [
        "coef_values = clf.coef_\n",
        "\n",
        "coef_names = X_train.columns\n",
        "\n",
        "sorted_indices, sorted_coef_values = np.argsort(coef_values)[::-1], sorted(coef_values, reverse=True)\n",
        "\n",
        "sorted_coef_names = []\n",
        "\n",
        "for index in sorted_indices:\n",
        "  for i, coef_name in enumerate(coef_names):\n",
        "    if index == i:\n",
        "      sorted_coef_names.append(coef_name)"
      ],
      "execution_count": 0,
      "outputs": []
    },
    {
      "cell_type": "markdown",
      "metadata": {
        "id": "pPUTenL6Iamr",
        "colab_type": "text"
      },
      "source": [
        "### Rank Coefficients by Abs Value"
      ]
    },
    {
      "cell_type": "code",
      "metadata": {
        "id": "E7Vt_kJACksM",
        "colab_type": "code",
        "colab": {}
      },
      "source": [
        "f = lambda x: abs(x)\n",
        "\n",
        "abs_coef_values = f(coef_values)\n",
        "\n",
        "abs_sorted_indices, abs_sorted_coef_values = np.argsort(abs_coef_values)[::-1], sorted(abs_coef_values, reverse=True)\n",
        "\n",
        "abs_sorted_coef_names = []\n",
        "\n",
        "for index in abs_sorted_indices:\n",
        "  for i, coef_name in enumerate(coef_names):\n",
        "    if index == i:\n",
        "      abs_sorted_coef_names.append(coef_name)"
      ],
      "execution_count": 0,
      "outputs": []
    },
    {
      "cell_type": "markdown",
      "metadata": {
        "id": "ZZxtmX08I2VK",
        "colab_type": "text"
      },
      "source": [
        "### Graph Coefficients"
      ]
    },
    {
      "cell_type": "code",
      "metadata": {
        "id": "4f64RYaj8Pkl",
        "colab_type": "code",
        "colab": {
          "base_uri": "https://localhost:8080/",
          "height": 585
        },
        "outputId": "0a50af9e-b192-450a-e8f2-00a0231688f9"
      },
      "source": [
        "fig, ax = plt.subplots(1,2, figsize=(16,8))\n",
        "\n",
        "sns.barplot(list(range(len(coef_values))), sorted_coef_values, ax=ax[0])\n",
        "\n",
        "ax[0].set_xticklabels(sorted_coef_names, rotation=90, size=11)\n",
        "\n",
        "ax[0].set_title('Ranked Coefficients', size=25)\n",
        "\n",
        "ax[0].set_xlabel('Coefficient', size=15)\n",
        "\n",
        "ax[0].set_ylabel('Coefficient Value', size=15, rotation=90)\n",
        "\n",
        "sns.barplot(list(range(len(coef_values))), abs_sorted_coef_values, ax=ax[1])\n",
        "\n",
        "ax[1].set_xticklabels(abs_sorted_coef_names, rotation=90, size=11)\n",
        "\n",
        "ax[1].set_title('Ranked Absolute Coefficients', size=25)\n",
        "\n",
        "ax[1].set_xlabel('Coefficient', size=15)\n",
        "\n",
        "ax[1].set_ylabel('Coefficient Abs Value', size=15, rotation=90)\n",
        "\n",
        "plt.tight_layout()"
      ],
      "execution_count": 51,
      "outputs": [
        {
          "output_type": "display_data",
          "data": {
            "image/png": "[encoded data removed]",
            "text/plain": [
              "<Figure size 1152x576 with 2 Axes>"
            ]
          },
          "metadata": {
            "tags": []
          }
        }
      ]
    },
    {
      "cell_type": "markdown",
      "metadata": {
        "id": "TyzzTHJOEMy4",
        "colab_type": "text"
      },
      "source": [
        "The explainable model is a linear regression with a lower R2 score than the best model. As you can see in the graph on the right (which ranks coefficients based on absolute value), the most important coefficients are 'model' and 'manufacturer'. The only other significant coefficient is 'year', which is well behind 'model' and 'manufacturer' in coefficient value. The rest of the coefficients are too small to appear on the graph, meaning they are essentially negligible. 'Manufacturer' and 'year' have positive coefficients, meaning that as their values go up, the predicted price goes up on average. 'Model', however, has a negative coefficient, which means that it had the opposite effect of its target encoding. In other words, models that were target-encoded with higher values than others actually had the effect of predicting average values less than their other target-encoded counterparts. That was a very curious result, but it was clearly offset by the strong positive coefficient of 'manufacturer'.\n",
        "\n",
        "It's surprising that 'year' didn't have as large of an impact as in other models, but it appears that certain manufacturers and models were hugely important to this linear model, while year was less important."
      ]
    }
  ]
}